### Import library
import pandas as pd
import numpy as np
from sklearn.preprocessing import StandardScaler
import logistic_regression as lr

### load the data
data_path = 'suv_data.csv'
suv = pd.read_csv(data_path)
suv
